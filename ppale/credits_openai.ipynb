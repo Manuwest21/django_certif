{
 "cells": [
  {
   "cell_type": "code",
   "execution_count": null,
   "metadata": {},
   "outputs": [
    {
     "ename": "",
     "evalue": "",
     "output_type": "error",
     "traceback": [
      "\u001b[1;31mRunning cells with 'django' requires the ipykernel package.\n",
      "\u001b[1;31mRun the following command to install 'ipykernel' into the Python environment. \n",
      "\u001b[1;31mCommand: '/home/utilisateur/Documents/all_projects/authenti_ok/django/bin/python -m pip install ipykernel -U --force-reinstall'"
     ]
    }
   ],
   "source": [
    "from openai import OpenAI\n",
    "\n",
    "# Remplacez par votre clé API OpenAI\n",
    "openaikey = 'sk-proj-18fEAPYKQaYAm5Mt0Kc4T3BlbkFJ6tyvsnXi9GQTVz1ehpAr'\n",
    "\n",
    "def check_credits():\n",
    "    try:\n",
    "        # Appeler l'endpoint de facturation\n",
    "        usage = OpenAI.api_requestor.ApiRequestor().request(\n",
    "            \"get\", \"/dashboard/billing/credit_grants\"\n",
    "        )\n",
    "        \n",
    "        if usage.status_code == 200:\n",
    "            data = usage.body['data']\n",
    "            total_credits = data['total_granted']\n",
    "            total_used = data['total_used']\n",
    "            remaining_credits = total_credits - total_used\n",
    "            return {\n",
    "                'total_credits': total_credits,\n",
    "                'total_used': total_used,\n",
    "                'remaining_credits': remaining_credits\n",
    "            }\n",
    "        else:\n",
    "            return {'error': 'Unable to fetch credit details'}\n",
    "    except OpenAI.error.OpenAIError as e:\n",
    "        return {'error': str(e)}\n",
    "\n",
    "# Afficher les crédits disponibles\n",
    "credits = check_credits()\n",
    "if 'error' in credits:\n",
    "    print(f\"Error: {credits['error']}\")\n",
    "else:\n",
    "    print(f\"Total Credits: {credits['total_credits']}\")\n",
    "    print(f\"Total Used: {credits['total_used']}\")\n",
    "    print(f\"Remaining Credits: {credits['remaining_credits']}\")"
   ]
  },
  {
   "cell_type": "code",
   "execution_count": null,
   "metadata": {},
   "outputs": [],
   "source": []
  },
  {
   "cell_type": "code",
   "execution_count": null,
   "metadata": {},
   "outputs": [],
   "source": []
  },
  {
   "cell_type": "code",
   "execution_count": null,
   "metadata": {},
   "outputs": [],
   "source": []
  }
 ],
 "metadata": {
  "kernelspec": {
   "display_name": "django",
   "language": "python",
   "name": "python3"
  },
  "language_info": {
   "name": "python",
   "version": "3.10.12"
  }
 },
 "nbformat": 4,
 "nbformat_minor": 2
}
